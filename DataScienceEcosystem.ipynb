{
 "cells": [
  {
   "cell_type": "markdown",
   "id": "dc6f992b-0fdf-4959-8ff7-07ce71d2cc0d",
   "metadata": {},
   "source": [
    "# Data Science Tools and Ecosystem"
   ]
  },
  {
   "cell_type": "markdown",
   "id": "5df76085-3284-4240-b8c1-c0296a5936fd",
   "metadata": {},
   "source": [
    "In this notebook, Data Science Tools and Ecosystem are summarized."
   ]
  },
  {
   "cell_type": "markdown",
   "id": "63decb6b-ed03-4f12-a1b5-94da02e084ed",
   "metadata": {},
   "source": [
    "Some of the popular languages that Data Scientists use are:\n",
    "1. Java\n",
    "1. Julia\n",
    "1. R\n",
    "1. SQL\n",
    "1. Python"
   ]
  },
  {
   "cell_type": "markdown",
   "id": "1e4d389a-5c9b-442e-8796-d401748836b2",
   "metadata": {},
   "source": [
    "Some of the commonly used libraries used by Data Scientists include:\n",
    "\n",
    "1. Scikit\n",
    "1. Matplotlib\n",
    "1. Tensorflow\n",
    "1. Scipy\n",
    "1. Keras"
   ]
  },
  {
   "cell_type": "markdown",
   "id": "2aaa4d81-5870-4a86-8322-00e2943250ff",
   "metadata": {},
   "source": [
    "| Data Science Tools|\n",
    "|:-----------------:|\n",
    "| RStusdio |\n",
    "| Tensorflow |\n",
    "| Apache Spark |\n",
    "| Apache Hadoop |"
   ]
  },
  {
   "cell_type": "markdown",
   "id": "18a9e126-15d0-4ec5-b7d0-8a97d816f65e",
   "metadata": {},
   "source": [
    "### Below are a few examples of evaluating arithmetic expressions in Python"
   ]
  },
  {
   "cell_type": "code",
   "execution_count": 5,
   "id": "a22cfcfc-41c4-4c36-97e3-872535d1da61",
   "metadata": {},
   "outputs": [
    {
     "data": {
      "text/plain": [
       "17"
      ]
     },
     "execution_count": 5,
     "metadata": {},
     "output_type": "execute_result"
    }
   ],
   "source": [
    "#This a simple arithmetic expression to mutiply then add integers\n",
    "(3*4)+5"
   ]
  },
  {
   "cell_type": "code",
   "execution_count": 7,
   "id": "1f08ce9d-f001-4364-8155-85da26df7b33",
   "metadata": {},
   "outputs": [
    {
     "data": {
      "text/plain": [
       "3.3333333333333335"
      ]
     },
     "execution_count": 7,
     "metadata": {},
     "output_type": "execute_result"
    }
   ],
   "source": [
    "#This will convert 200 minutes to hours by diving by 60\n",
    "200/60"
   ]
  },
  {
   "cell_type": "markdown",
   "id": "16b50177-1375-4dc0-9810-cfadd2053038",
   "metadata": {},
   "source": [
    "## Author\n",
    "David Fillis"
   ]
  },
  {
   "cell_type": "code",
   "execution_count": null,
   "id": "ea304af7-636e-4079-9728-bf628328e4ad",
   "metadata": {},
   "outputs": [],
   "source": []
  }
 ],
 "metadata": {
  "kernelspec": {
   "display_name": "Python 3 (ipykernel)",
   "language": "python",
   "name": "python3"
  },
  "language_info": {
   "codemirror_mode": {
    "name": "ipython",
    "version": 3
   },
   "file_extension": ".py",
   "mimetype": "text/x-python",
   "name": "python",
   "nbconvert_exporter": "python",
   "pygments_lexer": "ipython3",
   "version": "3.12.1"
  }
 },
 "nbformat": 4,
 "nbformat_minor": 5
}
